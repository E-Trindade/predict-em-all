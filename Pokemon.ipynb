{
 "cells": [
  {
   "cell_type": "markdown",
   "metadata": {},
   "source": [
    "# Análise dataset Pokémon Go"
   ]
  },
  {
   "cell_type": "code",
   "execution_count": 1,
   "metadata": {
    "collapsed": true
   },
   "outputs": [],
   "source": [
    "#install.packages('ggplot2')\n",
    "library(ggplot2) # Data visualization\n",
    "# install.packages('plyr')\n",
    "library(plyr)"
   ]
  },
  {
   "cell_type": "code",
   "execution_count": 2,
   "metadata": {
    "collapsed": true
   },
   "outputs": [],
   "source": [
    "#Lendo o dataset\n",
    "data = read.csv('300k.csv')"
   ]
  },
  {
   "cell_type": "code",
   "execution_count": 3,
   "metadata": {
    "collapsed": true
   },
   "outputs": [],
   "source": [
    "# levels(data$continent)\n",
    "# subset(data[,c('city', 'continent_fixed')], continent=='Indian')\n",
    "# data[1:30, c('city', 'continent_fixed')]"
   ]
  },
  {
   "cell_type": "code",
   "execution_count": 4,
   "metadata": {
    "collapsed": true,
    "scrolled": true
   },
   "outputs": [],
   "source": [
    "#Limpeza Continents\n",
    "data$continent_fixed = data$continent\n",
    "levels(data$continent_fixed) = list(\n",
    "                                America=c('America/Argentina','America/Indiana','America/Kentucky'),\n",
    "                                Africa=c('Africa'),\n",
    "                                Asia=c('Asia'),\n",
    "                                Oceania=c('Atlantic', 'Australia'),\n",
    "                                Europe=c('Europe', 'Indian', 'Pacific')\n",
    ")"
   ]
  },
  {
   "cell_type": "code",
   "execution_count": 5,
   "metadata": {},
   "outputs": [
    {
     "data": {
      "text/plain": [
       "   pokemonId         latitude        longitude      \n",
       " Min.   :  1.00   Min.   :-42.98   Min.   :-159.33  \n",
       " 1st Qu.: 16.00   1st Qu.: 33.81   1st Qu.: -90.24  \n",
       " Median : 21.00   Median : 42.25   Median : -71.12  \n",
       " Mean   : 45.32   Mean   : 38.77   Mean   : -35.70  \n",
       " 3rd Qu.: 69.00   3rd Qu.: 49.48   3rd Qu.:  12.57  \n",
       " Max.   :149.00   Max.   : 68.44   Max.   : 175.62  \n",
       "                                                    \n",
       "           appearedLocalTime                            X_id       \n",
       " 2016-09-06T14:56:22:   146   MjA0MDA1MzgyMjQ5NDg0NDkz    :     1  \n",
       " 2016-09-04T11:54:36:     8   MjA0MDA2NDkzNjUwMjUzMzgyMQ==:     1  \n",
       " 2016-09-03T00:28:22:     7   MjA0MDA2Njg2MTA5MTYxMDQ5Mw==:     1  \n",
       " 2016-09-03T00:28:36:     7   MjA0MDAwNzgyOTgxMjA0MjU3Mw==:     1  \n",
       " 2016-09-03T09:11:41:     7   MjA0MDAxMTg4NDM1MjUzNzk4MQ==:     1  \n",
       " 2016-09-03T09:57:25:     7   MjA0MDAxNDcwMjk2OTc3ODgyOQ==:     1  \n",
       " (Other)            :295839   (Other)                     :296015  \n",
       "   cellId_90m         cellId_180m         cellId_370m       \n",
       " Min.   :4.317e+16   Min.   :4.317e+16   Min.   :4.317e+16  \n",
       " 1st Qu.:5.144e+18   1st Qu.:5.144e+18   1st Qu.:5.144e+18  \n",
       " Median :6.026e+18   Median :6.026e+18   Median :6.026e+18  \n",
       " Mean   :7.079e+18   Mean   :7.079e+18   Mean   :7.079e+18  \n",
       " 3rd Qu.:9.758e+18   3rd Qu.:9.758e+18   3rd Qu.:9.758e+18  \n",
       " Max.   :1.228e+19   Max.   :1.228e+19   Max.   :1.228e+19  \n",
       "                                                            \n",
       "  cellId_730m         cellId_1460m        cellId_2920m      \n",
       " Min.   :4.317e+16   Min.   :4.317e+16   Min.   :4.317e+16  \n",
       " 1st Qu.:5.144e+18   1st Qu.:5.144e+18   1st Qu.:5.144e+18  \n",
       " Median :6.026e+18   Median :6.026e+18   Median :6.026e+18  \n",
       " Mean   :7.079e+18   Mean   :7.079e+18   Mean   :7.079e+18  \n",
       " 3rd Qu.:9.758e+18   3rd Qu.:9.758e+18   3rd Qu.:9.758e+18  \n",
       " Max.   :1.228e+19   Max.   :1.228e+19   Max.   :1.228e+19  \n",
       "                                                            \n",
       "  cellId_5850m       appearedTimeOfDay   appearedHour   appearedMinute \n",
       " Min.   :4.317e+16   afternoon: 45958   Min.   : 0.00   Min.   : 0.00  \n",
       " 1st Qu.:5.144e+18   evening  : 42183   1st Qu.: 5.00   1st Qu.:15.00  \n",
       " Median :6.026e+18   morning  : 59890   Median :11.00   Median :30.00  \n",
       " Mean   :7.079e+18   night    :147990   Mean   :10.91   Mean   :29.75  \n",
       " 3rd Qu.:9.758e+18                      3rd Qu.:17.00   3rd Qu.:45.00  \n",
       " Max.   :1.228e+19                      Max.   :23.00   Max.   :59.00  \n",
       "                                                                       \n",
       " appearedDayOfWeek  appearedDay    appearedMonth  appearedYear   terrainType   \n",
       " dummy_day: 9001   Min.   :2.000   Min.   :8     Min.   :2016   Min.   : 0.00  \n",
       " Friday   :68037   1st Qu.:4.000   1st Qu.:8     1st Qu.:2016   1st Qu.: 8.00  \n",
       " Saturday :72201   Median :5.000   Median :8     Median :2016   Median :13.00  \n",
       " Sunday   :32056   Mean   :4.959   Mean   :8     Mean   :2016   Mean   :10.54  \n",
       " Thursday :54257   3rd Qu.:6.000   3rd Qu.:8     3rd Qu.:2016   3rd Qu.:13.00  \n",
       " Tuesday  :  354   Max.   :8.000   Max.   :8     Max.   :2016   Max.   :16.00  \n",
       " Wednesday:60115                                                               \n",
       " closeToWater            city                    continent     \n",
       " false:227522   New_York   : 54177   America          :150545  \n",
       " true : 68499   Chicago    : 32046   Europe           :122145  \n",
       "                Prague     : 28000   Asia             : 15617  \n",
       "                Los_Angeles: 22108   Australia        :  3413  \n",
       "                London     : 19094   Pacific          :  1992  \n",
       "                Rome       : 15883   America/Argentina:  1103  \n",
       "                (Other)    :124713   (Other)          :  1206  \n",
       "         weather        temperature      windSpeed       windBearing   \n",
       " Clear       :170482   Min.   : 4.20   Min.   : 0.000   Min.   :  0.0  \n",
       " PartlyCloudy: 48349   1st Qu.:17.10   1st Qu.: 3.560   1st Qu.: 96.0  \n",
       " MostlyCloudy: 46589   Median :21.60   Median : 6.050   Median :190.0  \n",
       " Overcast    : 14419   Mean   :21.73   Mean   : 6.691   Mean   :179.9  \n",
       " LightRain   :  4488   3rd Qu.:26.50   3rd Qu.: 8.870   3rd Qu.:261.0  \n",
       " Drizzle     :  4237   Max.   :41.20   Max.   :56.130   Max.   :359.0  \n",
       " (Other)     :  7457                                                   \n",
       "    pressure                   weatherIcon    sunriseMinutesMidnight\n",
       " Min.   : 996.3   clear-day          :86955   Min.   :281.0         \n",
       " 1st Qu.:1012.2   clear-night        :81346   1st Qu.:382.0         \n",
       " Median :1016.5   partly-cloudy-day  :66808   Median :396.0         \n",
       " Mean   :1016.1   partly-cloudy-night:30133   Mean   :398.5         \n",
       " 3rd Qu.:1020.0   cloudy             :14868   3rd Qu.:412.0         \n",
       " Max.   :1035.5   rain               :11646   Max.   :481.0         \n",
       "                  (Other)            : 4265                         \n",
       "  sunriseHour    sunriseMinute   sunriseMinutesSince sunsetMinutesMidnight\n",
       " Min.   :4.000   Min.   : 0.00   Min.   :-444.0      Min.   :1043         \n",
       " 1st Qu.:6.000   1st Qu.:16.00   1st Qu.: 246.0      1st Qu.:1164         \n",
       " Median :6.000   Median :26.00   Median : 561.0      Median :1181         \n",
       " Mean   :6.175   Mean   :28.03   Mean   : 485.7      Mean   :1176         \n",
       " 3rd Qu.:6.000   3rd Qu.:41.00   3rd Qu.: 821.0      3rd Qu.:1192         \n",
       " Max.   :8.000   Max.   :59.00   Max.   :1092.0      Max.   :1251         \n",
       "                                                                          \n",
       "   sunsetHour     sunsetMinute  sunsetMinutesBefore population_density\n",
       " Min.   :17.00   Min.   : 0.0   Min.   :-375.0      Min.   :    0.0   \n",
       " 1st Qu.:19.00   1st Qu.:21.0   1st Qu.: -49.0      1st Qu.:  160.2   \n",
       " Median :19.00   Median :36.0   Median : 223.0      Median :  570.0   \n",
       " Mean   :19.05   Mean   :33.3   Mean   : 291.8      Mean   : 1313.6   \n",
       " 3rd Qu.:19.00   3rd Qu.:45.0   3rd Qu.: 537.0      3rd Qu.: 1691.8   \n",
       " Max.   :20.00   Max.   :59.0   Max.   :1229.0      Max.   :10000.0   \n",
       "                                                                      \n",
       "   urban         suburban       midurban        rural        gymDistanceKm     \n",
       " false:168890   false:114754   false: 85775   false:210246   Min.   :   0.001  \n",
       " true :127131   true :181267   true :210246   true : 85775   1st Qu.:   0.183  \n",
       "                                                             Median :   0.334  \n",
       "                                                             Mean   :   2.149  \n",
       "                                                             3rd Qu.:   0.636  \n",
       "                                                             Max.   :3859.425  \n",
       "                                                                               \n",
       " gymIn100m      gymIn250m      gymIn500m      gymIn1000m     gymIn2500m    \n",
       " false:264915   false:187019   false: 94883   false: 47780   false: 27081  \n",
       " true : 31106   true :109002   true :201138   true :248241   true :268940  \n",
       "                                                                           \n",
       "                                                                           \n",
       "                                                                           \n",
       "                                                                           \n",
       "                                                                           \n",
       " gymIn5000m     pokestopDistanceKm pokestopIn100m pokestopIn250m pokestopIn500m\n",
       " false: 10178   1.109609:    59    false:195038   false:105997   false: 51658  \n",
       " true :285843   0.159416:    55    true :100983   true :190024   true :244363  \n",
       "                0.958176:    53                                                \n",
       "                0.50028 :    50                                                \n",
       "                1.878775:    50                                                \n",
       "                5.509003:    50                                                \n",
       "                (Other) :295704                                                \n",
       " pokestopIn1000m pokestopIn2500m pokestopIn5000m   cooc_1         cooc_2      \n",
       " false: 22508    false:  9724    false:  4337    false:294256   false:295851  \n",
       " true :273513    true :286297    true :291684    true :  1765   true :   170  \n",
       "                                                                              \n",
       "                                                                              \n",
       "                                                                              \n",
       "                                                                              \n",
       "                                                                              \n",
       "   cooc_3         cooc_4         cooc_5         cooc_6         cooc_7      \n",
       " false:296007   false:295243   false:295964   false:296010   false:294099  \n",
       " true :    14   true :   778   true :    57   true :    11   true :  1922  \n",
       "                                                                           \n",
       "                                                                           \n",
       "                                                                           \n",
       "                                                                           \n",
       "                                                                           \n",
       "   cooc_8         cooc_9        cooc_10        cooc_11        cooc_12      \n",
       " false:295861   false:295990   false:283769   false:295151   false:295889  \n",
       " true :   160   true :    31   true : 12252   true :   870   true :   132  \n",
       "                                                                           \n",
       "                                                                           \n",
       "                                                                           \n",
       "                                                                           \n",
       "                                                                           \n",
       "  cooc_13        cooc_14        cooc_15        cooc_16        cooc_17      \n",
       " false:270711   false:293786   false:295769   false:256575   false:291735  \n",
       " true : 25310   true :  2235   true :   252   true : 39446   true :  4286  \n",
       "                                                                           \n",
       "                                                                           \n",
       "                                                                           \n",
       "                                                                           \n",
       "                                                                           \n",
       "  cooc_18        cooc_19        cooc_20        cooc_21        cooc_22      \n",
       " false:295411   false:266690   false:294378   false:282988   false:295534  \n",
       " true :   610   true : 29331   true :  1643   true : 13033   true :   487  \n",
       "                                                                           \n",
       "                                                                           \n",
       "                                                                           \n",
       "                                                                           \n",
       "                                                                           \n",
       "  cooc_23        cooc_24        cooc_25        cooc_26        cooc_27      \n",
       " false:290757   false:295798   false:295484   false:296017   false:293178  \n",
       " true :  5264   true :   223   true :   537   true :     4   true :  2843  \n",
       "                                                                           \n",
       "                                                                           \n",
       "                                                                           \n",
       "                                                                           \n",
       "                                                                           \n",
       "  cooc_28        cooc_29        cooc_30        cooc_31        cooc_32      \n",
       " false:295908   false:291109   false:295713   false:296005   false:241222  \n",
       " true :   113   true :  4912   true :   308   true :    16   true : 54799  \n",
       "                                                                           \n",
       "                                                                           \n",
       "                                                                           \n",
       "                                                                           \n",
       "                                                                           \n",
       "  cooc_33        cooc_34        cooc_35        cooc_36        cooc_37      \n",
       " false:295636   false:296005   false:291742   false:295937   false:295254  \n",
       " true :   385   true :    16   true :  4279   true :    84   true :   767  \n",
       "                                                                           \n",
       "                                                                           \n",
       "                                                                           \n",
       "                                                                           \n",
       "                                                                           \n",
       "  cooc_38        cooc_39        cooc_40        cooc_41        cooc_42      \n",
       " false:296013   false:294557   false:295963   false:284717   false:294738  \n",
       " true :     8   true :  1464   true :    58   true : 11304   true :  1283  \n",
       "                                                                           \n",
       "                                                                           \n",
       "                                                                           \n",
       "                                                                           \n",
       "                                                                           \n",
       "  cooc_43        cooc_44        cooc_45        cooc_46        cooc_47      \n",
       " false:290991   false:295714   false:295982   false:287215   false:295736  \n",
       " true :  5030   true :   307   true :    39   true :  8806   true :   285  \n",
       "                                                                           \n",
       "                                                                           \n",
       "                                                                           \n",
       "                                                                           \n",
       "                                                                           \n",
       "  cooc_48        cooc_49        cooc_50        cooc_51        cooc_52      \n",
       " false:285232   false:295613   false:295077   false:295962   false:293539  \n",
       " true : 10789   true :   408   true :   944   true :    59   true :  2482  \n",
       "                                                                           \n",
       "                                                                           \n",
       "                                                                           \n",
       "                                                                           \n",
       "                                                                           \n",
       "  cooc_53        cooc_54        cooc_55        cooc_56        cooc_57      \n",
       " false:295959   false:291883   false:295826   false:293486   false:295919  \n",
       " true :    62   true :  4138   true :   195   true :  2535   true :   102  \n",
       "                                                                           \n",
       "                                                                           \n",
       "                                                                           \n",
       "                                                                           \n",
       "                                                                           \n",
       "  cooc_58        cooc_59        cooc_60        cooc_61        cooc_62      \n",
       " false:293507   false:295957   false:291282   false:295639   false:296001  \n",
       " true :  2514   true :    64   true :  4739   true :   382   true :    20  \n",
       "                                                                           \n",
       "                                                                           \n",
       "                                                                           \n",
       "                                                                           \n",
       "                                                                           \n",
       "  cooc_63        cooc_64        cooc_65        cooc_66        cooc_67      \n",
       " false:293945   false:275296   false:296017   false:295138   false:295960  \n",
       " true :  2076   true : 20725   true :     4   true :   883   true :    61  \n",
       "                                                                           \n",
       "                                                                           \n",
       "                                                                           \n",
       "                                                                           \n",
       "                                                                           \n",
       "  cooc_68        cooc_69        cooc_70        cooc_71        cooc_72      \n",
       " false:296021   false:291331   false:295741   false:295999   false:294482  \n",
       "                true :  4690   true :   280   true :    22   true :  1539  \n",
       "                                                                           \n",
       "                                                                           \n",
       "                                                                           \n",
       "                                                                           \n",
       "                                                                           \n",
       "  cooc_73        cooc_74        cooc_75        cooc_76        cooc_77      \n",
       " false:295836   false:292609   false:295738   false:295975   false:294196  \n",
       " true :   185   true :  3412   true :   283   true :    46   true :  1825  \n",
       "                                                                           \n",
       "                                                                           \n",
       "                                                                           \n",
       "                                                                           \n",
       "                                                                           \n",
       "  cooc_78        cooc_79        cooc_80        cooc_81        cooc_82      \n",
       " false:295978   false:293810   false:295910   false:295210   false:295986  \n",
       " true :    43   true :  2211   true :   111   true :   811   true :    35  \n",
       "                                                                           \n",
       "                                                                           \n",
       "                                                                           \n",
       "                                                                           \n",
       "                                                                           \n",
       "  cooc_83        cooc_84        cooc_85        cooc_86        cooc_87      \n",
       " false:296020   false:295210   false:295651   false:295163   false:296004  \n",
       " true :     1   true :   811   true :   370   true :   858   true :    17  \n",
       "                                                                           \n",
       "                                                                           \n",
       "                                                                           \n",
       "                                                                           \n",
       "                                                                           \n",
       "  cooc_88        cooc_89        cooc_90        cooc_91        cooc_92      \n",
       " false:295847   false:296010   false:294231   false:295980   false:293253  \n",
       " true :   174   true :    11   true :  1790   true :    41   true :  2768  \n",
       "                                                                           \n",
       "                                                                           \n",
       "                                                                           \n",
       "                                                                           \n",
       "                                                                           \n",
       "  cooc_93        cooc_94        cooc_95        cooc_96        cooc_97      \n",
       " false:295854   false:296010   false:295818   false:261977   false:295672  \n",
       " true :   167   true :    11   true :   203   true : 34044   true :   349  \n",
       "                                                                           \n",
       "                                                                           \n",
       "                                                                           \n",
       "                                                                           \n",
       "                                                                           \n",
       "  cooc_98        cooc_99        cooc_100       cooc_101       cooc_102     \n",
       " false:290373   false:295808   false:295175   false:295986   false:293402  \n",
       " true :  5648   true :   213   true :   846   true :    35   true :  2619  \n",
       "                                                                           \n",
       "                                                                           \n",
       "                                                                           \n",
       "                                                                           \n",
       "                                                                           \n",
       "  cooc_103       cooc_104       cooc_105       cooc_106       cooc_107     \n",
       " false:295970   false:294664   false:295971   false:295932   false:295941  \n",
       " true :    51   true :  1357   true :    50   true :    89   true :    80  \n",
       "                                                                           \n",
       "                                                                           \n",
       "                                                                           \n",
       "                                                                           \n",
       "                                                                           \n",
       "  cooc_108       cooc_109       cooc_110       cooc_111       cooc_112     \n",
       " false:295965   false:295212   false:296001   false:294503   false:295962  \n",
       " true :    56   true :   809   true :    20   true :  1518   true :    59  \n",
       "                                                                           \n",
       "                                                                           \n",
       "                                                                           \n",
       "                                                                           \n",
       "                                                                           \n",
       "  cooc_113       cooc_114       cooc_115       cooc_116       cooc_117     \n",
       " false:295995   false:295582   false:295989   false:292885   false:295901  \n",
       " true :    26   true :   439   true :    32   true :  3136   true :   120  \n",
       "                                                                           \n",
       "                                                                           \n",
       "                                                                           \n",
       "                                                                           \n",
       "                                                                           \n",
       "  cooc_118       cooc_119       cooc_120       cooc_121       cooc_122     \n",
       " false:291381   false:295830   false:291710   false:295933   false:295608  \n",
       " true :  4640   true :   191   true :  4311   true :    88   true :   413  \n",
       "                                                                           \n",
       "                                                                           \n",
       "                                                                           \n",
       "                                                                           \n",
       "                                                                           \n",
       "  cooc_123       cooc_124       cooc_125       cooc_126       cooc_127     \n",
       " false:295564   false:295343   false:295889   false:295800   false:294315  \n",
       " true :   457   true :   678   true :   132   true :   221   true :  1706  \n",
       "                                                                           \n",
       "                                                                           \n",
       "                                                                           \n",
       "                                                                           \n",
       "                                                                           \n",
       "  cooc_128       cooc_129       cooc_130       cooc_131       cooc_132     \n",
       " false:273419   false:289928   false:296002   false:296002   false:296021  \n",
       " true : 22602   true :  6093   true :    19   true :    19                 \n",
       "                                                                           \n",
       "                                                                           \n",
       "                                                                           \n",
       "                                                                           \n",
       "                                                                           \n",
       "  cooc_133       cooc_134       cooc_135       cooc_136       cooc_137     \n",
       " false:281770   false:295996   false:296011   false:296011   false:296013  \n",
       " true : 14251   true :    25   true :    10   true :    10   true :     8  \n",
       "                                                                           \n",
       "                                                                           \n",
       "                                                                           \n",
       "                                                                           \n",
       "                                                                           \n",
       "  cooc_138       cooc_139       cooc_140       cooc_141       cooc_142     \n",
       " false:295720   false:296006   false:295695   false:296014   false:295984  \n",
       " true :   301   true :    15   true :   326   true :     7   true :    37  \n",
       "                                                                           \n",
       "                                                                           \n",
       "                                                                           \n",
       "                                                                           \n",
       "                                                                           \n",
       "  cooc_143       cooc_144       cooc_145       cooc_146       cooc_147     \n",
       " false:295885   false:296021   false:296021   false:296021   false:295207  \n",
       " true :   136                                                true :   814  \n",
       "                                                                           \n",
       "                                                                           \n",
       "                                                                           \n",
       "                                                                           \n",
       "                                                                           \n",
       "  cooc_148       cooc_149       cooc_150       cooc_151          class       \n",
       " false:295949   false:295967   false:296021   false:296021   Min.   :  1.00  \n",
       " true :    72   true :    54                                 1st Qu.: 16.00  \n",
       "                                                             Median : 21.00  \n",
       "                                                             Mean   : 45.32  \n",
       "                                                             3rd Qu.: 69.00  \n",
       "                                                             Max.   :149.00  \n",
       "                                                                             \n",
       " continent_fixed \n",
       " America:152711  \n",
       " Africa :   104  \n",
       " Asia   : 15617  \n",
       " Oceania:  3449  \n",
       " Europe :124140  \n",
       "                 \n",
       "                 "
      ]
     },
     "metadata": {},
     "output_type": "display_data"
    }
   ],
   "source": [
    "# Medidas resumo\n",
    "#Média, freq e quantis\n",
    "summary(data)"
   ]
  },
  {
   "cell_type": "code",
   "execution_count": 6,
   "metadata": {},
   "outputs": [
    {
     "data": {
      "text/html": [
       "<dl class=dl-horizontal>\n",
       "\t<dt>latitude</dt>\n",
       "\t\t<dd>17.0292028107061</dd>\n",
       "\t<dt>longitude</dt>\n",
       "\t\t<dd>67.3983357445463</dd>\n",
       "\t<dt>temperature</dt>\n",
       "\t\t<dd>6.19308905481689</dd>\n",
       "\t<dt>windSpeed</dt>\n",
       "\t\t<dd>4.17510167384398</dd>\n",
       "\t<dt>windBearing</dt>\n",
       "\t\t<dd>99.9422472455277</dd>\n",
       "\t<dt>pressure</dt>\n",
       "\t\t<dd>5.63386052921278</dd>\n",
       "\t<dt>population_density</dt>\n",
       "\t\t<dd>1913.71017482648</dd>\n",
       "\t<dt>gymDistanceKm</dt>\n",
       "\t\t<dd>18.6461464404668</dd>\n",
       "</dl>\n"
      ],
      "text/latex": [
       "\\begin{description*}\n",
       "\\item[latitude] 17.0292028107061\n",
       "\\item[longitude] 67.3983357445463\n",
       "\\item[temperature] 6.19308905481689\n",
       "\\item[windSpeed] 4.17510167384398\n",
       "\\item[windBearing] 99.9422472455277\n",
       "\\item[pressure] 5.63386052921278\n",
       "\\item[population\\textbackslash{}\\_density] 1913.71017482648\n",
       "\\item[gymDistanceKm] 18.6461464404668\n",
       "\\end{description*}\n"
      ],
      "text/markdown": [
       "latitude\n",
       ":   17.0292028107061longitude\n",
       ":   67.3983357445463temperature\n",
       ":   6.19308905481689windSpeed\n",
       ":   4.17510167384398windBearing\n",
       ":   99.9422472455277pressure\n",
       ":   5.63386052921278population_density\n",
       ":   1913.71017482648gymDistanceKm\n",
       ":   18.6461464404668\n",
       "\n"
      ],
      "text/plain": [
       "          latitude          longitude        temperature          windSpeed \n",
       "         17.029203          67.398336           6.193089           4.175102 \n",
       "       windBearing           pressure population_density      gymDistanceKm \n",
       "         99.942247           5.633861        1913.710175          18.646146 "
      ]
     },
     "metadata": {},
     "output_type": "display_data"
    }
   ],
   "source": [
    "numeric_fields = data[, c(\n",
    "                        'latitude', \n",
    "                       'longitude', \n",
    "                       'temperature', \n",
    "                       'windSpeed', \n",
    "                       'windBearing', \n",
    "                       'pressure', \n",
    "                       'population_density', \n",
    "                       'gymDistanceKm'\n",
    "                     )]\n",
    "# Desvio padrão\n",
    "apply(numeric_fields, 2, sd)"
   ]
  },
  {
   "cell_type": "code",
   "execution_count": 7,
   "metadata": {},
   "outputs": [
    {
     "data": {
      "text/html": [
       "<table>\n",
       "<thead><tr><th></th><th scope=col>Var1</th><th scope=col>Var2</th><th scope=col>Freq</th></tr></thead>\n",
       "<tbody>\n",
       "\t<tr><th scope=row>3</th><td>temperature</td><td>latitude   </td><td>-0.2202821 </td></tr>\n",
       "\t<tr><th scope=row>17</th><td>latitude   </td><td>temperature</td><td>-0.2202821 </td></tr>\n",
       "\t<tr><th scope=row>38</th><td>pressure   </td><td>windBearing</td><td>-0.2425995 </td></tr>\n",
       "\t<tr><th scope=row>45</th><td>windBearing</td><td>pressure   </td><td>-0.2425995 </td></tr>\n",
       "</tbody>\n",
       "</table>\n"
      ],
      "text/latex": [
       "\\begin{tabular}{r|lll}\n",
       "  & Var1 & Var2 & Freq\\\\\n",
       "\\hline\n",
       "\t3 & temperature & latitude    & -0.2202821 \\\\\n",
       "\t17 & latitude    & temperature & -0.2202821 \\\\\n",
       "\t38 & pressure    & windBearing & -0.2425995 \\\\\n",
       "\t45 & windBearing & pressure    & -0.2425995 \\\\\n",
       "\\end{tabular}\n"
      ],
      "text/markdown": [
       "\n",
       "| <!--/--> | Var1 | Var2 | Freq | \n",
       "|---|---|---|---|\n",
       "| 3 | temperature | latitude    | -0.2202821  | \n",
       "| 17 | latitude    | temperature | -0.2202821  | \n",
       "| 38 | pressure    | windBearing | -0.2425995  | \n",
       "| 45 | windBearing | pressure    | -0.2425995  | \n",
       "\n",
       "\n"
      ],
      "text/plain": [
       "   Var1        Var2        Freq      \n",
       "3  temperature latitude    -0.2202821\n",
       "17 latitude    temperature -0.2202821\n",
       "38 pressure    windBearing -0.2425995\n",
       "45 windBearing pressure    -0.2425995"
      ]
     },
     "metadata": {},
     "output_type": "display_data"
    }
   ],
   "source": [
    "# Correlações\n",
    "correlations = cor(numeric_fields)\n",
    "subset(as.data.frame(as.table(correlations)), Var1 != Var2 & abs(Freq) > 0.2) # Nenhuma correlação notável"
   ]
  },
  {
   "cell_type": "code",
   "execution_count": 8,
   "metadata": {},
   "outputs": [
    {
     "ename": "ERROR",
     "evalue": "Error in eval(expr, envir, enclos): object 'topCities' not found\n",
     "output_type": "error",
     "traceback": [
      "Error in eval(expr, envir, enclos): object 'topCities' not found\nTraceback:\n"
     ]
    }
   ],
   "source": [
    "topCities"
   ]
  },
  {
   "cell_type": "code",
   "execution_count": 9,
   "metadata": {},
   "outputs": [
    {
     "data": {},
     "metadata": {},
     "output_type": "display_data"
    },
    {
     "data": {
      "image/png": "[encoded data removed]",
      "text/plain": [
       "plot without title"
      ]
     },
     "metadata": {},
     "output_type": "display_data"
    }
   ],
   "source": [
    "## Cidades mais frequentes\n",
    "citiesFreq = table(data$city);\n",
    "topCities = as.data.frame(sort(citiesFreq, decreasing=TRUE)[1:15]);\n",
    "\n",
    "ggplot(data=topCities, aes(x=Var1,y=Freq)) +\n",
    "      coord_cartesian() +      \n",
    "      geom_bar(position=\"identity\", stat=\"identity\") + \n",
    "      scale_y_continuous(breaks = seq(0, 60000, by = 10000)) + \n",
    "      ggtitle(\"15 cidades mais frequentes\") + \n",
    "      \n",
    "      xlab(\"\") +\n",
    "      ylab(\"Frequência\") +\n",
    "      theme(axis.text.x = element_text(angle = 90, hjust = 1, vjust = 0.5))"
   ]
  },
  {
   "cell_type": "code",
   "execution_count": 10,
   "metadata": {},
   "outputs": [
    {
     "data": {},
     "metadata": {},
     "output_type": "display_data"
    },
    {
     "data": {
      "image/png": "[encoded data removed]",
      "text/plain": [
       "plot without title"
      ]
     },
     "metadata": {},
     "output_type": "display_data"
    }
   ],
   "source": [
    "# Continentes\n",
    "continentFreq = table(data$continent_fixed);\n",
    "continents = as.data.frame(sort(continentFreq, decreasing=TRUE));\n",
    "\n",
    "ggplot(data=continents, aes(x=Var1,y=Freq)) +\n",
    "      coord_cartesian() +      \n",
    "      geom_bar(position=\"dodge\", stat=\"identity\") + \n",
    "      ggtitle(\"Frequência por continente\") + \n",
    "      xlab(\"Continente\") +\n",
    "      ylab(\"Frequência\")"
   ]
  },
  {
   "cell_type": "code",
   "execution_count": 11,
   "metadata": {},
   "outputs": [
    {
     "name": "stderr",
     "output_type": "stream",
     "text": [
      "The following `from` values were not present in `x`: 3, 6, 15, 254, 255\n"
     ]
    },
    {
     "data": {
      "text/html": [
       "<table>\n",
       "<thead><tr><th></th><th scope=col>country</th><th scope=col>terrain</th><th scope=col>freq</th></tr></thead>\n",
       "<tbody>\n",
       "\t<tr><th scope=row>56</th><td>America           </td><td>Urban and built-up</td><td>73795             </td></tr>\n",
       "\t<tr><th scope=row>42</th><td>Africa            </td><td>Grasslands        </td><td>   42             </td></tr>\n",
       "\t<tr><th scope=row>58</th><td>Asia              </td><td>Urban and built-up</td><td> 9329             </td></tr>\n",
       "\t<tr><th scope=row>59</th><td>Oceania           </td><td>Urban and built-up</td><td> 2131             </td></tr>\n",
       "\t<tr><th scope=row>60</th><td>Europe            </td><td>Urban and built-up</td><td>44176             </td></tr>\n",
       "</tbody>\n",
       "</table>\n"
      ],
      "text/latex": [
       "\\begin{tabular}{r|lll}\n",
       "  & country & terrain & freq\\\\\n",
       "\\hline\n",
       "\t56 & America            & Urban and built-up & 73795             \\\\\n",
       "\t42 & Africa             & Grasslands         &    42             \\\\\n",
       "\t58 & Asia               & Urban and built-up &  9329             \\\\\n",
       "\t59 & Oceania            & Urban and built-up &  2131             \\\\\n",
       "\t60 & Europe             & Urban and built-up & 44176             \\\\\n",
       "\\end{tabular}\n"
      ],
      "text/markdown": [
       "\n",
       "| <!--/--> | country | terrain | freq | \n",
       "|---|---|---|---|---|\n",
       "| 56 | America            | Urban and built-up | 73795              | \n",
       "| 42 | Africa             | Grasslands         |    42              | \n",
       "| 58 | Asia               | Urban and built-up |  9329              | \n",
       "| 59 | Oceania            | Urban and built-up |  2131              | \n",
       "| 60 | Europe             | Urban and built-up | 44176              | \n",
       "\n",
       "\n"
      ],
      "text/plain": [
       "   country terrain            freq \n",
       "56 America Urban and built-up 73795\n",
       "42 Africa  Grasslands            42\n",
       "58 Asia    Urban and built-up  9329\n",
       "59 Oceania Urban and built-up  2131\n",
       "60 Europe  Urban and built-up 44176"
      ]
     },
     "metadata": {},
     "output_type": "display_data"
    }
   ],
   "source": [
    "#Tipos de terreno\n",
    "terr_cont = as.data.frame(\n",
    "            table(data$continent_fixed, data$terrainType))\n",
    "TERRAIN_TABLE = c(\n",
    "                                            \"0\"=\"Water\",\n",
    "                                            \"1\"=\"Evergreen Needleleaf forest\",\n",
    "                                            \"2\"=\"Evergreen Broadleaf forest\",\n",
    "                                            \"3\"=\"Deciduous Needleleaf forest\",\n",
    "                                            \"4\"=\"Deciduous Broadleaf forest\",\n",
    "                                            \"5\"=\"Mixed forest\",\n",
    "                                            \"6\"=\"Closed shrublands\",\n",
    "                                            \"7\"=\"Open shrublands\",\n",
    "                                            \"8\"=\"Woody savannas\",\n",
    "                                            \"9\"=\"Savannas\",\n",
    "                                            \"10\"=\"Grasslands\",\n",
    "                                            \"11\"=\"Permanent wetlands\",\n",
    "                                            \"12\"=\"Croplands\",\n",
    "                                            \"13\"=\"Urban and built-up\",\n",
    "                                            \"14\"=\"Cropland/Natural vegetation mosaic\",\n",
    "                                            \"15\"=\"Snow and ice\",\n",
    "                                            \"16\"=\"Barren or sparsely vegetated\",\n",
    "                                            \"254\"=\"Unclassified\",\n",
    "                                            \"255\"=\"Fill Value\"\n",
    ");\n",
    "colnames(terr_cont) = c('country', 'terrain', 'freq');\n",
    "terr_cont$terrain = revalue(sapply(terr_cont$terrain, toString), TERRAIN_TABLE);\n",
    "terr_cont = terr_cont[with(terr_cont, order(country, -freq)),] #Distribuição de terrenos pelos continentes\n",
    "#TODO adicionar porcentagem em relação ao total do país\n",
    "terr_cont[match(unique(terr_cont$country), terr_cont$country),] #Terreno mais frequente de cada continente"
   ]
  },
  {
   "cell_type": "code",
   "execution_count": 12,
   "metadata": {},
   "outputs": [
    {
     "data": {},
     "metadata": {},
     "output_type": "display_data"
    },
    {
     "data": {
      "image/png": "[encoded data removed]",
      "text/plain": [
       "plot without title"
      ]
     },
     "metadata": {},
     "output_type": "display_data"
    }
   ],
   "source": [
    "library(scales)\n",
    "\n",
    "ggplot(data, aes(x=as.factor(data$terrainType))) +\n",
    "  geom_bar() +\n",
    "  coord_flip() +\n",
    "  scale_y_continuous(breaks  = seq(0, 250000, by=25000), labels = scales::comma) +\n",
    "  ggtitle(\"Aparições por Tipo de Terreno\") +\n",
    "  xlab(\"terrainType\") +\n",
    "  ylab(\"Frequência\")\n"
   ]
  },
  {
   "cell_type": "code",
   "execution_count": 13,
   "metadata": {},
   "outputs": [
    {
     "data": {},
     "metadata": {},
     "output_type": "display_data"
    },
    {
     "data": {
      "image/png": "[encoded data removed]",
      "text/plain": [
       "plot without title"
      ]
     },
     "metadata": {},
     "output_type": "display_data"
    }
   ],
   "source": [
    "#Classificação entre pokemons raros, bem raros e extremamente raros\n",
    "#Classificação retirada dos jogos da franquia principal\n",
    "#Raros\n",
    "data$isRare <- ifelse(\n",
    "    data$pokemonId == 1 |\n",
    "    data$pokemonId == 2 |\n",
    "    data$pokemonId == 3 |\n",
    "    data$pokemonId == 4 |\n",
    "    data$pokemonId == 5 |\n",
    "    data$pokemonId == 6 |\n",
    "    data$pokemonId == 7 |\n",
    "    data$pokemonId == 8 |\n",
    "    data$pokemonId == 9 |\n",
    "    data$pokemonId == 25 |\n",
    "    data$pokemonId == 26 |\n",
    "    data$pokemonId == 27 |\n",
    "    data$pokemonId == 28 |\n",
    "    data$pokemonId == 35 |\n",
    "    data$pokemonId == 36 |\n",
    "    data$pokemonId == 37 |\n",
    "    data$pokemonId == 38 |\n",
    "    data$pokemonId == 39 |\n",
    "    data$pokemonId == 50 |\n",
    "    data$pokemonId == 51 |\n",
    "    data$pokemonId == 52 |\n",
    "    data$pokemonId == 53 |\n",
    "    data$pokemonId == 54 |\n",
    "    data$pokemonId == 55 |\n",
    "    data$pokemonId == 56 |\n",
    "    data$pokemonId == 63 |\n",
    "    data$pokemonId == 64 |\n",
    "    data$pokemonId == 65 |\n",
    "    data$pokemonId == 66 |\n",
    "    data$pokemonId == 67 |\n",
    "    data$pokemonId == 68 |\n",
    "    data$pokemonId == 72 |\n",
    "    data$pokemonId == 73 |\n",
    "    data$pokemonId == 74 |\n",
    "    data$pokemonId == 75 |\n",
    "    data$pokemonId == 76 |\n",
    "    data$pokemonId == 77 |\n",
    "    data$pokemonId == 78 |\n",
    "    data$pokemonId == 79 |\n",
    "    data$pokemonId == 80 |\n",
    "    data$pokemonId == 81 |\n",
    "    data$pokemonId == 82 |\n",
    "    data$pokemonId == 86 |\n",
    "    data$pokemonId == 87 |\n",
    "    data$pokemonId == 90 |\n",
    "    data$pokemonId == 91 |\n",
    "    data$pokemonId == 95 |\n",
    "    data$pokemonId == 100 |\n",
    "    data$pokemonId == 101 |\n",
    "    data$pokemonId == 102 |\n",
    "    data$pokemonId == 103 |\n",
    "    data$pokemonId == 104 |\n",
    "    data$pokemonId == 105 |\n",
    "    data$pokemonId == 109 |\n",
    "    data$pokemonId == 110 |\n",
    "    data$pokemonId == 111 |\n",
    "    data$pokemonId == 112 |\n",
    "    data$pokemonId == 114 |\n",
    "    data$pokemonId == 116 |\n",
    "    data$pokemonId == 117 |\n",
    "    data$pokemonId == 118 |\n",
    "    data$pokemonId == 119 |\n",
    "    data$pokemonId == 123 |\n",
    "    data$pokemonId == 124 |\n",
    "    data$pokemonId == 125 |\n",
    "    data$pokemonId == 126 |\n",
    "    data$pokemonId == 128 |\n",
    "    data$pokemonId == 134 |\n",
    "    data$pokemonId == 135 |\n",
    "    data$pokemonId == 136 |\n",
    "    data$pokemonId == 138 |\n",
    "    data$pokemonId == 139 |\n",
    "    data$pokemonId == 140 |\n",
    "    data$pokemonId == 141 |\n",
    "    data$pokemonId == 143 |\n",
    "    data$pokemonId == 147 |\n",
    "    data$pokemonId == 148 |\n",
    "    data$pokemonId == 149,\n",
    "  TRUE, FALSE)\n",
    "\n",
    "# Muito raros\n",
    "data$isVeryRare <- ifelse(\n",
    "    data$pokemonId == 88 |\n",
    "    data$pokemonId == 89 |\n",
    "    data$pokemonId == 106 |\n",
    "    data$pokemonId == 107 |\n",
    "    data$pokemonId == 108 |\n",
    "    data$pokemonId == 113 |\n",
    "    data$pokemonId == 130 |\n",
    "    data$pokemonId == 137 |\n",
    "    data$pokemonId == 142 |\n",
    "    data$pokemonId == 83 |\n",
    "    data$pokemonId == 132 |\n",
    "    data$pokemonId == 144 |\n",
    "    data$pokemonId == 145 |\n",
    "    data$pokemonId == 146 |\n",
    "    data$pokemonId == 150 |\n",
    "    data$pokemonId == 151 |\n",
    "    data$pokemonId == 115 |\n",
    "    data$pokemonId == 122 |\n",
    "    data$pokemonId == 131,\n",
    "  TRUE, FALSE)\n",
    "\n",
    "data$classif <- ifelse(data$isRare == TRUE, \"rare\", \"NONE\")\n",
    "data$classif <- ifelse(data$isVeryRare == TRUE, \"very rare\", data$classif)\n",
    "data$classif <- ifelse(data$classif == \"NONE\", \"common\", data$classif)\n",
    "\n",
    "ggplot(data, aes(x=classif)) +\n",
    "  geom_bar() + \n",
    "   ggtitle(\"Frequência/Raridade dos Pokemons\") + \n",
    "      xlab(\"Raridade\") +\n",
    "      ylab(\"Frequência\")"
   ]
  },
  {
   "cell_type": "code",
   "execution_count": 14,
   "metadata": {},
   "outputs": [
    {
     "data": {},
     "metadata": {},
     "output_type": "display_data"
    },
    {
     "data": {
      "image/png": "[encoded data removed]",
      "text/plain": [
       "plot without title"
      ]
     },
     "metadata": {},
     "output_type": "display_data"
    }
   ],
   "source": [
    "ggplot(data, aes(x=appearedDayOfWeek)) +\n",
    "  geom_bar() +\n",
    "  coord_flip() +\n",
    "  ggtitle(\"Aparições por dia da semana\") +\n",
    "  ylab(\"Frequência\")"
   ]
  },
  {
   "cell_type": "code",
   "execution_count": 15,
   "metadata": {},
   "outputs": [
    {
     "data": {},
     "metadata": {},
     "output_type": "display_data"
    },
    {
     "data": {
      "image/png": "[encoded data removed]",
      "text/plain": [
       "plot without title"
      ]
     },
     "metadata": {},
     "output_type": "display_data"
    }
   ],
   "source": [
    "# Teste correlação do Geodude (Pokemon tipo pedra/terra) com proximidade com a água\n",
    "id_geodude = 74\n",
    "ggplot(subset(data, data$pokemonId == id_geodude), aes(x=closeToWater)) +\n",
    "    coord_flip() +  \n",
    "    geom_bar() +\n",
    "    scale_y_continuous(limits=c(0,5000)) +\n",
    "    ggtitle(\"Aparições do Geodude em relação à proximidade com a água\") +\n",
    "    ylab(\"Frequência\")"
   ]
  },
  {
   "cell_type": "code",
   "execution_count": 16,
   "metadata": {
    "scrolled": true
   },
   "outputs": [
    {
     "data": {},
     "metadata": {},
     "output_type": "display_data"
    },
    {
     "data": {
      "image/png": "[encoded data removed]",
      "text/plain": [
       "plot without title"
      ]
     },
     "metadata": {},
     "output_type": "display_data"
    }
   ],
   "source": [
    "# Teste correlação do Magikarp (Pokemon tipo água) com proximidade com a água\n",
    "id_magikarp = 129\n",
    "ggplot(subset(data, data$pokemonId == id_magikarp), aes(x=closeToWater)) +\n",
    "    coord_flip() +  \n",
    "    geom_bar() +\n",
    "    scale_y_continuous(limits=c(0,5000)) +\n",
    "    ggtitle(\"Aparições do Magikarp em relação à proximidade com a água\") +\n",
    "    ylab(\"Frequência\")"
   ]
  },
  {
   "cell_type": "code",
   "execution_count": 17,
   "metadata": {},
   "outputs": [
    {
     "data": {},
     "metadata": {},
     "output_type": "display_data"
    },
    {
     "data": {
      "image/png": "[encoded data removed]",
      "text/plain": [
       "plot without title"
      ]
     },
     "metadata": {},
     "output_type": "display_data"
    }
   ],
   "source": [
    "# Teste correlação do Lapras (Pokemon tipo água) com proximidade com a água\n",
    "id_lapras = 131\n",
    "ggplot(subset(data, data$pokemonId == id_lapras), aes(x=closeToWater)) +\n",
    "    coord_flip() +  \n",
    "    geom_bar() +\n",
    "    ggtitle(\"Aparições do Lapras em relação à proximidade com a água\") +\n",
    "    ylab(\"Frequência\")"
   ]
  }
 ],
 "metadata": {
  "kernelspec": {
   "display_name": "R",
   "language": "R",
   "name": "ir"
  },
  "language_info": {
   "codemirror_mode": "r",
   "file_extension": ".r",
   "mimetype": "text/x-r-source",
   "name": "R",
   "pygments_lexer": "r",
   "version": "3.4.1"
  }
 },
 "nbformat": 4,
 "nbformat_minor": 2
}
